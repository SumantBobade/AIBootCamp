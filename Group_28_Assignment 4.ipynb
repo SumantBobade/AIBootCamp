{
 "cells": [
  {
   "cell_type": "code",
   "execution_count": 3,
   "id": "d4878918-ab8e-4b1f-9cd3-de4d582d52ca",
   "metadata": {},
   "outputs": [
    {
     "name": "stdout",
     "output_type": "stream",
     "text": [
      "4.9.0\n"
     ]
    }
   ],
   "source": [
    "import cv2\n",
    "print(cv2.__version__)"
   ]
  },
  {
   "cell_type": "code",
   "execution_count": 5,
   "id": "a6d57dfa-a6f3-40f1-adaf-485ac8d9b651",
   "metadata": {},
   "outputs": [],
   "source": [
    "img= cv2.imread(r\"C:\\Users\\suman\\OneDrive\\Pictures\\20240315.jpg\")\n",
    "cv2.imshow('Image', img)\n",
    "cv2.waitKey(0)\n",
    "cv2.destroyAllWindows()"
   ]
  },
  {
   "cell_type": "code",
   "execution_count": 7,
   "id": "7ec58bb9-0e7d-460f-a706-88f1759a4303",
   "metadata": {},
   "outputs": [
    {
     "data": {
      "text/plain": [
       "(2160, 3840, 3)"
      ]
     },
     "execution_count": 7,
     "metadata": {},
     "output_type": "execute_result"
    }
   ],
   "source": [
    "img.shape"
   ]
  },
  {
   "cell_type": "code",
   "execution_count": 15,
   "id": "5ac54810-bec6-4b97-8fa0-2f883ff4775e",
   "metadata": {},
   "outputs": [],
   "source": [
    "resized_img = cv2.resize(img , (500,500))\n",
    "cv2.imshow('Resize Image', resized_img)\n",
    "cv2.waitKey(0)\n",
    "cv2.destroyAllWindows()"
   ]
  },
  {
   "cell_type": "code",
   "execution_count": 23,
   "id": "09a8d5ba-a995-4ec7-9fa8-a920fa809793",
   "metadata": {},
   "outputs": [],
   "source": [
    "gray_img = cv2.cvtColor(resized_img, cv2.COLOR_BGR2GRAY)\n",
    "cv2.imshow('Gray Image', gray_img)\n",
    "cv2.waitKey(0)\n",
    "cv2.destroyAllWindows()"
   ]
  },
  {
   "cell_type": "code",
   "execution_count": 25,
   "id": "8d45cac2-2a8f-4c95-b930-d4aff0bc8759",
   "metadata": {},
   "outputs": [
    {
     "data": {
      "text/plain": [
       "(500, 500)"
      ]
     },
     "execution_count": 25,
     "metadata": {},
     "output_type": "execute_result"
    }
   ],
   "source": [
    "gray_img.shape"
   ]
  },
  {
   "cell_type": "code",
   "execution_count": 27,
   "id": "2782f929-0489-4639-a839-086fa88d7ecb",
   "metadata": {},
   "outputs": [],
   "source": [
    "cropped_img = resized_img[100:200, 100:400]\n",
    "cv2.imshow('Cropped Image', cropped_img)\n",
    "cv2.waitKey(0)\n",
    "cv2.destroyAllWindows()"
   ]
  },
  {
   "cell_type": "code",
   "execution_count": 29,
   "id": "b0c59f30-b576-4de7-bdb5-7b32d6168752",
   "metadata": {},
   "outputs": [],
   "source": [
    "(h,w)= resized_img.shape[:2]\n",
    "center = (w//2, h//2)\n",
    "M =cv2.getRotationMatrix2D(center, 37, 1.0)\n",
    "rotated_img = cv2.warpAffine(resized_img, M, (w,h))\n",
    "cv2.imshow('Rotated Image', rotated_img)\n",
    "cv2.waitKey(0)\n",
    "cv2.destroyAllWindows()"
   ]
  },
  {
   "cell_type": "code",
   "execution_count": 31,
   "id": "a55db287-2423-4cc8-a214-e34184b1c4fb",
   "metadata": {},
   "outputs": [
    {
     "ename": "error",
     "evalue": "OpenCV(4.9.0) D:\\a\\opencv-python\\opencv-python\\opencv\\modules\\imgproc\\src\\smooth.dispatch.cpp:294: error: (-215:Assertion failed) ksize.width > 0 && ksize.width % 2 == 1 && ksize.height > 0 && ksize.height % 2 == 1 in function 'cv::createGaussianKernels'\n",
     "output_type": "error",
     "traceback": [
      "\u001b[1;31m---------------------------------------------------------------------------\u001b[0m",
      "\u001b[1;31merror\u001b[0m                                     Traceback (most recent call last)",
      "Cell \u001b[1;32mIn[31], line 4\u001b[0m\n\u001b[0;32m      1\u001b[0m \u001b[38;5;66;03m#Blurring Techniques\u001b[39;00m\n\u001b[0;32m      2\u001b[0m \u001b[38;5;66;03m#Gaussian Blurring\u001b[39;00m\n\u001b[1;32m----> 4\u001b[0m blurred_img \u001b[38;5;241m=\u001b[39m \u001b[43mcv2\u001b[49m\u001b[38;5;241;43m.\u001b[39;49m\u001b[43mGaussianBlur\u001b[49m\u001b[43m(\u001b[49m\u001b[43mresized_img\u001b[49m\u001b[43m,\u001b[49m\u001b[43m \u001b[49m\u001b[43m(\u001b[49m\u001b[38;5;241;43m10\u001b[39;49m\u001b[43m,\u001b[49m\u001b[38;5;241;43m10\u001b[39;49m\u001b[43m)\u001b[49m\u001b[43m,\u001b[49m\u001b[43m \u001b[49m\u001b[38;5;241;43m0\u001b[39;49m\u001b[43m)\u001b[49m\n\u001b[0;32m      5\u001b[0m cv2\u001b[38;5;241m.\u001b[39mimshow(\u001b[38;5;124m'\u001b[39m\u001b[38;5;124mBlur Image\u001b[39m\u001b[38;5;124m'\u001b[39m, blurred_img)\n\u001b[0;32m      6\u001b[0m cv2\u001b[38;5;241m.\u001b[39mwaitKey(\u001b[38;5;241m0\u001b[39m)\n",
      "\u001b[1;31merror\u001b[0m: OpenCV(4.9.0) D:\\a\\opencv-python\\opencv-python\\opencv\\modules\\imgproc\\src\\smooth.dispatch.cpp:294: error: (-215:Assertion failed) ksize.width > 0 && ksize.width % 2 == 1 && ksize.height > 0 && ksize.height % 2 == 1 in function 'cv::createGaussianKernels'\n"
     ]
    }
   ],
   "source": [
    "#Blurring Techniques\n",
    "#Gaussian Blurring\n",
    "\n",
    "blurred_img = cv2.GaussianBlur(resized_img, (10,10), 0)\n",
    "cv2.imshow('Blur Image', blurred_img)\n",
    "cv2.waitKey(0)\n",
    "cv2.destroyAllWindows()"
   ]
  },
  {
   "cell_type": "code",
   "execution_count": 33,
   "id": "6ce8390a-eb2a-4bd8-bf86-777d41461b37",
   "metadata": {},
   "outputs": [],
   "source": [
    "# Median  Blur\n",
    "\n",
    "median_blurred_img = cv2.medianBlur(resized_img, 5)\n",
    "cv2.imshow('Blur Image', median_blurred_img)\n",
    "cv2.waitKey(0)\n",
    "cv2.destroyAllWindows()"
   ]
  },
  {
   "cell_type": "code",
   "execution_count": 37,
   "id": "6d7bca73-5924-4da2-82b8-ecae4bd3fef8",
   "metadata": {},
   "outputs": [],
   "source": [
    "bileteral_blurring_img= cv2.bilateralFilter(resized_img, 9,75,75)\n",
    "cv2.imshow('Blur Image', bileteral_blurring_img)\n",
    "cv2.waitKey(0)\n",
    "cv2.destroyAllWindows()"
   ]
  },
  {
   "cell_type": "code",
   "execution_count": 39,
   "id": "b3d11b12-0a8a-4211-8d15-b7845ea4f747",
   "metadata": {},
   "outputs": [],
   "source": [
    "#Binary Tresholding\n",
    "\n",
    "_, tresh_img = cv2.threshold(gray_img , 127 , 255 , cv2.THRESH_BINARY)\n",
    "cv2.imshow('Binary Treshold' , tresh_img)  #Display image\n",
    "cv2.waitKey(0)  #Wait for a key press to close\n",
    "cv2.destroyAllWindows()"
   ]
  },
  {
   "cell_type": "code",
   "execution_count": null,
   "id": "75499c8f-c816-44bd-9dd6-df0996d5e11e",
   "metadata": {},
   "outputs": [],
   "source": [
    "#Binary INVERSE Tresholding\n",
    "\n",
    "_, tresh_img = cv2.threshold(gray_img , 127 , 255 , cv2.THRESH_BINARY_INV)\n",
    "cv2.imshow('Binary Treshold' , tresh_img)  #Display image\n",
    "cv2.waitKey(0)  #Wait for a key press to close\n",
    "cv2.destroyAllWindows()"
   ]
  },
  {
   "cell_type": "code",
   "execution_count": null,
   "id": "51ff29ad-f8c0-4736-8b82-94484da6a6b2",
   "metadata": {},
   "outputs": [],
   "source": []
  }
 ],
 "metadata": {
  "kernelspec": {
   "display_name": "Python 3 (ipykernel)",
   "language": "python",
   "name": "python3"
  },
  "language_info": {
   "codemirror_mode": {
    "name": "ipython",
    "version": 3
   },
   "file_extension": ".py",
   "mimetype": "text/x-python",
   "name": "python",
   "nbconvert_exporter": "python",
   "pygments_lexer": "ipython3",
   "version": "3.11.5"
  }
 },
 "nbformat": 4,
 "nbformat_minor": 5
}
