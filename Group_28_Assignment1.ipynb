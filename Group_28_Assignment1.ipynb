{
 "cells": [
  {
   "cell_type": "code",
   "execution_count": 25,
   "id": "0d58cef8-86a7-4732-a0bf-41b0ef20c472",
   "metadata": {},
   "outputs": [],
   "source": [
    "import pandas as pd"
   ]
  },
  {
   "cell_type": "code",
   "execution_count": 26,
   "id": "bb572e82-a449-4eea-9c3f-10dd788c84b4",
   "metadata": {},
   "outputs": [
    {
     "data": {
      "text/html": [
       "<div>\n",
       "<style scoped>\n",
       "    .dataframe tbody tr th:only-of-type {\n",
       "        vertical-align: middle;\n",
       "    }\n",
       "\n",
       "    .dataframe tbody tr th {\n",
       "        vertical-align: top;\n",
       "    }\n",
       "\n",
       "    .dataframe thead th {\n",
       "        text-align: right;\n",
       "    }\n",
       "</style>\n",
       "<table border=\"1\" class=\"dataframe\">\n",
       "  <thead>\n",
       "    <tr style=\"text-align: right;\">\n",
       "      <th></th>\n",
       "      <th>StudentID</th>\n",
       "      <th>Name</th>\n",
       "      <th>Gender</th>\n",
       "      <th>Age</th>\n",
       "      <th>MathScore</th>\n",
       "      <th>EnglishScore</th>\n",
       "      <th>TotalScore</th>\n",
       "    </tr>\n",
       "  </thead>\n",
       "  <tbody>\n",
       "    <tr>\n",
       "      <th>0</th>\n",
       "      <td>1</td>\n",
       "      <td>Alice</td>\n",
       "      <td>Female</td>\n",
       "      <td>15</td>\n",
       "      <td>85.0</td>\n",
       "      <td>90.0</td>\n",
       "      <td>175</td>\n",
       "    </tr>\n",
       "    <tr>\n",
       "      <th>1</th>\n",
       "      <td>2</td>\n",
       "      <td>Bob</td>\n",
       "      <td>Male</td>\n",
       "      <td>16</td>\n",
       "      <td>NaN</td>\n",
       "      <td>95.0</td>\n",
       "      <td>95</td>\n",
       "    </tr>\n",
       "    <tr>\n",
       "      <th>2</th>\n",
       "      <td>3</td>\n",
       "      <td>Charlie</td>\n",
       "      <td>Male</td>\n",
       "      <td>15</td>\n",
       "      <td>80.0</td>\n",
       "      <td>NaN</td>\n",
       "      <td>80</td>\n",
       "    </tr>\n",
       "    <tr>\n",
       "      <th>3</th>\n",
       "      <td>4</td>\n",
       "      <td>Diana</td>\n",
       "      <td>Female</td>\n",
       "      <td>16</td>\n",
       "      <td>90.0</td>\n",
       "      <td>85.0</td>\n",
       "      <td>175</td>\n",
       "    </tr>\n",
       "    <tr>\n",
       "      <th>4</th>\n",
       "      <td>5</td>\n",
       "      <td>Eve</td>\n",
       "      <td>Female</td>\n",
       "      <td>15</td>\n",
       "      <td>75.0</td>\n",
       "      <td>70.0</td>\n",
       "      <td>145</td>\n",
       "    </tr>\n",
       "  </tbody>\n",
       "</table>\n",
       "</div>"
      ],
      "text/plain": [
       "   StudentID     Name  Gender  Age  MathScore  EnglishScore  TotalScore\n",
       "0          1    Alice  Female   15       85.0          90.0         175\n",
       "1          2      Bob    Male   16        NaN          95.0          95\n",
       "2          3  Charlie    Male   15       80.0           NaN          80\n",
       "3          4    Diana  Female   16       90.0          85.0         175\n",
       "4          5      Eve  Female   15       75.0          70.0         145"
      ]
     },
     "execution_count": 26,
     "metadata": {},
     "output_type": "execute_result"
    }
   ],
   "source": [
    "df =pd.read_csv(r\"D:\\VIIT SEM 3\\AI BootCamp\\Assignment 1\\Assignment 1\\Students.csv\")\n",
    "df.head()"
   ]
  },
  {
   "cell_type": "code",
   "execution_count": 3,
   "id": "9cd7bdff-1aae-4550-9081-7adf652e2226",
   "metadata": {},
   "outputs": [
    {
     "name": "stdout",
     "output_type": "stream",
     "text": [
      "<class 'pandas.core.frame.DataFrame'>\n",
      "RangeIndex: 5 entries, 0 to 4\n",
      "Data columns (total 7 columns):\n",
      " #   Column        Non-Null Count  Dtype  \n",
      "---  ------        --------------  -----  \n",
      " 0   StudentID     5 non-null      int64  \n",
      " 1   Name          5 non-null      object \n",
      " 2   Gender        5 non-null      object \n",
      " 3   Age           5 non-null      int64  \n",
      " 4   MathScore     4 non-null      float64\n",
      " 5   EnglishScore  4 non-null      float64\n",
      " 6   TotalScore    5 non-null      int64  \n",
      "dtypes: float64(2), int64(3), object(2)\n",
      "memory usage: 412.0+ bytes\n"
     ]
    }
   ],
   "source": [
    "df.info()"
   ]
  },
  {
   "cell_type": "code",
   "execution_count": 27,
   "id": "eb74dbb4-1ff4-47b0-8957-c58ace8bf9d0",
   "metadata": {},
   "outputs": [],
   "source": [
    "df['MathScore'] = df['MathScore'].fillna(df['MathScore'].mean())"
   ]
  },
  {
   "cell_type": "code",
   "execution_count": 30,
   "id": "edf2b3c9-cf63-443d-97f7-9b4e9a2afaf8",
   "metadata": {},
   "outputs": [],
   "source": [
    "df['EnglishScore'] = df['EnglishScore'].fillna(df['EnglishScore'].mean())"
   ]
  },
  {
   "cell_type": "code",
   "execution_count": 31,
   "id": "522faa50-a134-4b35-bb58-14f40ef9932c",
   "metadata": {},
   "outputs": [
    {
     "name": "stdout",
     "output_type": "stream",
     "text": [
      "<class 'pandas.core.frame.DataFrame'>\n",
      "RangeIndex: 5 entries, 0 to 4\n",
      "Data columns (total 7 columns):\n",
      " #   Column        Non-Null Count  Dtype  \n",
      "---  ------        --------------  -----  \n",
      " 0   StudentID     5 non-null      int64  \n",
      " 1   Name          5 non-null      object \n",
      " 2   Gender        5 non-null      object \n",
      " 3   Age           5 non-null      int64  \n",
      " 4   MathScore     5 non-null      float64\n",
      " 5   EnglishScore  5 non-null      float64\n",
      " 6   TotalScore    5 non-null      int64  \n",
      "dtypes: float64(2), int64(3), object(2)\n",
      "memory usage: 412.0+ bytes\n"
     ]
    }
   ],
   "source": [
    "df.info() "
   ]
  },
  {
   "cell_type": "code",
   "execution_count": 35,
   "id": "cec40b47-a90b-4483-a53f-96fabe23d639",
   "metadata": {},
   "outputs": [],
   "source": [
    "df_encoded = pd.get_dummies(df['Gender'], drop_first=True)"
   ]
  },
  {
   "cell_type": "code",
   "execution_count": 32,
   "id": "4803d45d-e735-41f7-a85b-29601f621f3d",
   "metadata": {},
   "outputs": [],
   "source": [
    "english_scores = df['EnglishScore']\n",
    "math_scores = df['MathScore']\n",
    "df['TotalScore'] = english_scores + math_scores\n"
   ]
  },
  {
   "cell_type": "code",
   "execution_count": 36,
   "id": "de0bff28-3db2-4d8d-8816-de1db9ebb4a1",
   "metadata": {},
   "outputs": [
    {
     "name": "stdout",
     "output_type": "stream",
     "text": [
      "   StudentID     Name  Gender  Age  MathScore  EnglishScore  TotalScore\n",
      "0          1    Alice  Female   15       85.0          90.0       175.0\n",
      "1          2      Bob    Male   16       82.5          95.0       177.5\n",
      "2          3  Charlie    Male   15       80.0          85.0       165.0\n",
      "3          4    Diana  Female   16       90.0          85.0       175.0\n",
      "4          5      Eve  Female   15       75.0          70.0       145.0\n"
     ]
    }
   ],
   "source": [
    "print(df)"
   ]
  },
  {
   "cell_type": "code",
   "execution_count": 34,
   "id": "7c2bc977-bbc8-464d-aeaf-302e3a6a561b",
   "metadata": {},
   "outputs": [
    {
     "data": {
      "text/html": [
       "<div>\n",
       "<style scoped>\n",
       "    .dataframe tbody tr th:only-of-type {\n",
       "        vertical-align: middle;\n",
       "    }\n",
       "\n",
       "    .dataframe tbody tr th {\n",
       "        vertical-align: top;\n",
       "    }\n",
       "\n",
       "    .dataframe thead th {\n",
       "        text-align: right;\n",
       "    }\n",
       "</style>\n",
       "<table border=\"1\" class=\"dataframe\">\n",
       "  <thead>\n",
       "    <tr style=\"text-align: right;\">\n",
       "      <th></th>\n",
       "      <th>StudentID</th>\n",
       "      <th>Name</th>\n",
       "      <th>Gender</th>\n",
       "      <th>Age</th>\n",
       "      <th>MathScore</th>\n",
       "      <th>EnglishScore</th>\n",
       "      <th>TotalScore</th>\n",
       "    </tr>\n",
       "  </thead>\n",
       "  <tbody>\n",
       "    <tr>\n",
       "      <th>0</th>\n",
       "      <td>1</td>\n",
       "      <td>Alice</td>\n",
       "      <td>Female</td>\n",
       "      <td>15</td>\n",
       "      <td>85.0</td>\n",
       "      <td>90.0</td>\n",
       "      <td>175.0</td>\n",
       "    </tr>\n",
       "    <tr>\n",
       "      <th>1</th>\n",
       "      <td>2</td>\n",
       "      <td>Bob</td>\n",
       "      <td>Male</td>\n",
       "      <td>16</td>\n",
       "      <td>82.5</td>\n",
       "      <td>95.0</td>\n",
       "      <td>177.5</td>\n",
       "    </tr>\n",
       "    <tr>\n",
       "      <th>2</th>\n",
       "      <td>3</td>\n",
       "      <td>Charlie</td>\n",
       "      <td>Male</td>\n",
       "      <td>15</td>\n",
       "      <td>80.0</td>\n",
       "      <td>85.0</td>\n",
       "      <td>165.0</td>\n",
       "    </tr>\n",
       "    <tr>\n",
       "      <th>3</th>\n",
       "      <td>4</td>\n",
       "      <td>Diana</td>\n",
       "      <td>Female</td>\n",
       "      <td>16</td>\n",
       "      <td>90.0</td>\n",
       "      <td>85.0</td>\n",
       "      <td>175.0</td>\n",
       "    </tr>\n",
       "    <tr>\n",
       "      <th>4</th>\n",
       "      <td>5</td>\n",
       "      <td>Eve</td>\n",
       "      <td>Female</td>\n",
       "      <td>15</td>\n",
       "      <td>75.0</td>\n",
       "      <td>70.0</td>\n",
       "      <td>145.0</td>\n",
       "    </tr>\n",
       "  </tbody>\n",
       "</table>\n",
       "</div>"
      ],
      "text/plain": [
       "   StudentID     Name  Gender  Age  MathScore  EnglishScore  TotalScore\n",
       "0          1    Alice  Female   15       85.0          90.0       175.0\n",
       "1          2      Bob    Male   16       82.5          95.0       177.5\n",
       "2          3  Charlie    Male   15       80.0          85.0       165.0\n",
       "3          4    Diana  Female   16       90.0          85.0       175.0\n",
       "4          5      Eve  Female   15       75.0          70.0       145.0"
      ]
     },
     "execution_count": 34,
     "metadata": {},
     "output_type": "execute_result"
    }
   ],
   "source": [
    "df.head()"
   ]
  },
  {
   "cell_type": "code",
   "execution_count": 37,
   "id": "ebda3caa-68de-4fa5-a86a-e3058979799c",
   "metadata": {},
   "outputs": [],
   "source": [
    "df_gender = pd.get_dummies(df['Gender'], prefix='', prefix_sep='')\n",
    "df = pd.concat([df, df_gender], axis=1)"
   ]
  },
  {
   "cell_type": "code",
   "execution_count": 38,
   "id": "98002936-1ee2-449d-bfaf-3bf46f24398f",
   "metadata": {},
   "outputs": [
    {
     "name": "stdout",
     "output_type": "stream",
     "text": [
      "   StudentID     Name  Age  MathScore  EnglishScore  TotalScore  Female   Male\n",
      "0          1    Alice   15       85.0          90.0       175.0    True  False\n",
      "1          2      Bob   16       82.5          95.0       177.5   False   True\n",
      "2          3  Charlie   15       80.0          85.0       165.0   False   True\n",
      "3          4    Diana   16       90.0          85.0       175.0    True  False\n",
      "4          5      Eve   15       75.0          70.0       145.0    True  False\n"
     ]
    }
   ],
   "source": [
    "df.drop('Gender', axis=1, inplace=True)\n",
    "\n",
    "print(df)"
   ]
  },
  {
   "cell_type": "code",
   "execution_count": 41,
   "id": "2e337a35-bd32-4e92-92aa-89619ca86b00",
   "metadata": {},
   "outputs": [],
   "source": [
    "df[\"Female\"] = df[\"Female\"].astype(int)"
   ]
  },
  {
   "cell_type": "code",
   "execution_count": 42,
   "id": "db1a9f4e-5c65-45e3-8111-aeb5436519e1",
   "metadata": {},
   "outputs": [],
   "source": [
    "df[\"Male\"] = df[\"Male\"].astype(int)"
   ]
  },
  {
   "cell_type": "raw",
   "id": "92c26c85-eefb-4e0d-b9bc-ad00b16db38b",
   "metadata": {},
   "source": [
    "print(df)"
   ]
  },
  {
   "cell_type": "code",
   "execution_count": 43,
   "id": "e4df810a-a56b-404f-b291-9952905dab00",
   "metadata": {},
   "outputs": [
    {
     "name": "stdout",
     "output_type": "stream",
     "text": [
      "   StudentID     Name  Age  MathScore  EnglishScore  TotalScore  Female  Male\n",
      "0          1    Alice   15       85.0          90.0       175.0       1     0\n",
      "1          2      Bob   16       82.5          95.0       177.5       0     1\n",
      "2          3  Charlie   15       80.0          85.0       165.0       0     1\n",
      "3          4    Diana   16       90.0          85.0       175.0       1     0\n",
      "4          5      Eve   15       75.0          70.0       145.0       1     0\n"
     ]
    }
   ],
   "source": [
    "print(df)"
   ]
  },
  {
   "cell_type": "code",
   "execution_count": 44,
   "id": "35c1481e-c475-49d8-83cd-558a05dddf58",
   "metadata": {},
   "outputs": [],
   "source": [
    "from scipy.stats import zscore\n",
    "\n",
    "df[[\"MathScore\",\"EnglishScore\",\"TotalScore\"]] = df[[\"MathScore\",\"EnglishScore\",\"TotalScore\"]].apply(zscore)"
   ]
  },
  {
   "cell_type": "code",
   "execution_count": 45,
   "id": "b1a5eaa2-68c6-4aeb-b5cd-fbf94f20b2da",
   "metadata": {},
   "outputs": [
    {
     "name": "stdout",
     "output_type": "stream",
     "text": [
      "   StudentID     Name  Age  MathScore  EnglishScore  TotalScore  Female  Male\n",
      "0          1    Alice   15        0.5      0.597614    0.622841       1     0\n",
      "1          2      Bob   16        0.0      1.195229    0.830455       0     1\n",
      "2          3  Charlie   15       -0.5      0.000000   -0.207614       0     1\n",
      "3          4    Diana   16        1.5      0.000000    0.622841       1     0\n",
      "4          5      Eve   15       -1.5     -1.792843   -1.868523       1     0\n"
     ]
    }
   ],
   "source": [
    "print(df)"
   ]
  },
  {
   "cell_type": "code",
   "execution_count": null,
   "id": "308383a3-551e-4b0d-8dcf-f8bd83e67ea0",
   "metadata": {},
   "outputs": [],
   "source": []
  }
 ],
 "metadata": {
  "kernelspec": {
   "display_name": "Python 3 (ipykernel)",
   "language": "python",
   "name": "python3"
  },
  "language_info": {
   "codemirror_mode": {
    "name": "ipython",
    "version": 3
   },
   "file_extension": ".py",
   "mimetype": "text/x-python",
   "name": "python",
   "nbconvert_exporter": "python",
   "pygments_lexer": "ipython3",
   "version": "3.11.5"
  }
 },
 "nbformat": 4,
 "nbformat_minor": 5
}
